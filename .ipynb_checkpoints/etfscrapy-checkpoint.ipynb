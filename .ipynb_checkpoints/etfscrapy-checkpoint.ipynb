{
 "cells": [
  {
   "cell_type": "code",
   "execution_count": 8,
   "metadata": {},
   "outputs": [],
   "source": [
    "import pandas as pd\n",
    "import requests\n",
    "import io\n",
    "import re\n",
    "import asyncio\n",
    "from functools import partial\n",
    "from bs4 import BeautifulSoup\n",
    "from IPython.core.debugger import set_trace"
   ]
  },
  {
   "cell_type": "code",
   "execution_count": 2,
   "metadata": {},
   "outputs": [],
   "source": [
    "def etf_alloc(*etfs):\n",
    "    \n",
    "    def _name(df):\n",
    "        name = df.index.name\n",
    "        if name.lower() != 'region':\n",
    "            return name\n",
    "        elif df.index.str.contains('america|asia|europe|africa|middle', case=False).any():\n",
    "            return name\n",
    "        else:\n",
    "            return 'Market Tier'\n",
    "    \n",
    "    def _df(df, etf):\n",
    "        return pd.DataFrame({etf.upper():df.dropna().Percentage.str.rstrip('%').astype('float')})\n",
    "\n",
    "    \n",
    "    async def get_tables(etf):\n",
    "        url = 'https://etfdb.com/etf/' + etf\n",
    "        read_html_partial = partial(pd.read_html, attrs={'class':'chart base-table'}, index_col=0, flavor=['lxml', 'bs4'])\n",
    "        tables = await loop.run_in_executor(None, read_html_partial, url)\n",
    "        return {_name(df):_df(df, etf) for df in tables}\n",
    "\n",
    "\n",
    "    async def main():\n",
    "        fts = [asyncio.ensure_future(get_tables(etf)) for etf in etfs]\n",
    "        return await asyncio.gather(*fts)\n",
    "    \n",
    "    asyncio.set_event_loop(asyncio.new_event_loop())\n",
    "    loop = asyncio.get_event_loop()\n",
    "    \n",
    "    # 다음 코드를 주피터에서 돌리려면, tornado를 downgrade 해야함\n",
    "    # pip install tornado==4.5.3\n",
    "    res = loop.run_until_complete(main())\n",
    "    loop.close()\n",
    "    \n",
    "    etfs = {\n",
    "        k:pd.concat([dic[k] for dic in res], axis=1, sort='False').fillna(0) for k in res[0]\n",
    "    }\n",
    "    \n",
    "    return pd.concat(etfs, axis=0)"
   ]
  },
  {
   "cell_type": "code",
   "execution_count": 3,
   "metadata": {},
   "outputs": [
    {
     "name": "stdout",
     "output_type": "stream",
     "text": [
      "Wall time: 3.03 s\n"
     ]
    }
   ],
   "source": [
    "%%time\n",
    "etfs = etf_alloc('SPY','ACWI')#,'MTUM','VLUE','QUAL','XLB','XLY','XLP','XLE','XLF','XLV','XLI','IYR'); etfs"
   ]
  },
  {
   "cell_type": "code",
   "execution_count": null,
   "metadata": {},
   "outputs": [],
   "source": []
  },
  {
   "cell_type": "code",
   "execution_count": null,
   "metadata": {},
   "outputs": [],
   "source": []
  },
  {
   "cell_type": "code",
   "execution_count": 3,
   "metadata": {},
   "outputs": [],
   "source": [
    "BASE_URL_ETFDB = 'https://etfdb.com/etf/'"
   ]
  },
  {
   "cell_type": "code",
   "execution_count": 5,
   "metadata": {},
   "outputs": [],
   "source": [
    "class ETF:\n",
    "    def __init__(self, ticker):\n",
    "        self.ticker = ticker\n",
    "    \n",
    "    def price(self):\n",
    "        pass\n",
    "    \n",
    "    def holdings(self, src='etfdb'):\n",
    "        pass\n",
    "    \n",
    "    def alloc(self, src='etfdb'):\n",
    "        return etf_alloc(self.ticker, src)"
   ]
  },
  {
   "cell_type": "code",
   "execution_count": 12,
   "metadata": {},
   "outputs": [],
   "source": [
    "def etf_alloc(ticker, src):\n",
    "    \n",
    "    def _tname_etfdb(df):\n",
    "        tname = df.index.name\n",
    "        if tname.lower() != 'region':\n",
    "            return tname\n",
    "        elif df.index.str.contains('america|asia|europe|africa|middle', case=False).any():\n",
    "            return tname\n",
    "        else:\n",
    "            return 'Market Tier'\n",
    "    \n",
    "    def _table_etfdb(df):\n",
    "        #return pd.DataFrame({ticker.upper():df.dropna().Percentage.str.rstrip('%').astype('float')})\n",
    "        return df.dropna().Percentage.str.rstrip('%').astype('float')\n",
    "      \n",
    "    if src=='etfdb':\n",
    "        url = BASE_URL_ETFDB + ticker\n",
    "        dfs = pd.read_html(url, attrs={'class':'chart base-table'}, index_col=0, flavor=['lxml', 'bs4'])\n",
    "        return {_tname_etfdb(df):_table_etfdb(df) for df in dfs}\n",
    "\n",
    "    else:\n",
    "        return None"
   ]
  },
  {
   "cell_type": "code",
   "execution_count": 13,
   "metadata": {},
   "outputs": [
    {
     "data": {
      "text/plain": [
       "{'Asset': Asset\n",
       " Common equity         98.08\n",
       " ETF Cash Component     1.25\n",
       " Preferred stock        0.67\n",
       " Name: Percentage, dtype: float64, 'Sector': Sector\n",
       " Financials                17.08\n",
       " Technology                14.41\n",
       " Healthcare                11.72\n",
       " Consumer, Cyclical        10.01\n",
       " Industrials                9.91\n",
       " Communications             8.89\n",
       " Consumer, Non-Cyclical     8.05\n",
       " Energy                     6.22\n",
       " Basic Materials            4.28\n",
       " Utilities                  3.23\n",
       " Real Estate                3.02\n",
       " Other                      1.92\n",
       " ETF Cash Component         1.25\n",
       " Name: Percentage, dtype: float64, 'Market Cap': Market Cap\n",
       " Large cap             89.79\n",
       " Mid cap                8.60\n",
       " ETF Cash Component     1.25\n",
       " Small cap              0.35\n",
       " Micro cap              0.01\n",
       " Unknown                0.00\n",
       " Name: Percentage, dtype: float64, 'Region': Region\n",
       " North America    57.61\n",
       " Europe           21.22\n",
       " Asia-Pacific     10.88\n",
       " Asia              7.84\n",
       " Latin America     1.32\n",
       " Africa            0.77\n",
       " Middle East       0.37\n",
       " Name: Percentage, dtype: float64, 'Market Tier': Region\n",
       " United States                54.54\n",
       " Developed Markets (ex-US)    36.23\n",
       " Emerging Markets              9.19\n",
       " Frontier Markets              0.03\n",
       " Not-designated                0.01\n",
       " Name: Percentage, dtype: float64, 'Country': Country\n",
       " United States           54.54\n",
       " Japan                    7.14\n",
       " United Kingdom           5.18\n",
       " China                    3.35\n",
       " Canada                   3.07\n",
       " France                   3.01\n",
       " Switzerland              2.98\n",
       " Germany                  2.72\n",
       " Australia                2.12\n",
       " Netherlands              1.83\n",
       " South Korea              1.64\n",
       " Taiwan                   1.30\n",
       " Hong Kong                1.05\n",
       " Spain                    0.95\n",
       " India                    0.94\n",
       " Brazil                   0.82\n",
       " Sweden                   0.75\n",
       " South Africa             0.73\n",
       " Ireland                  0.70\n",
       " Italy                    0.66\n",
       " Denmark                  0.56\n",
       " Finland                  0.42\n",
       " Russia                   0.42\n",
       " Singapore                0.38\n",
       " Belgium                  0.31\n",
       " Mexico                   0.28\n",
       " Malaysia                 0.25\n",
       " Norway                   0.24\n",
       " Indonesia                0.20\n",
       " Thailand                 0.17\n",
       " Philippines              0.16\n",
       " Israel                   0.16\n",
       " Qatar                    0.11\n",
       " Chile                    0.11\n",
       " Portugal                 0.08\n",
       " Austria                  0.08\n",
       " Luxembourg               0.08\n",
       " Poland                   0.08\n",
       " United Arab Emirates     0.08\n",
       " Turkey                   0.06\n",
       " Hungary                  0.05\n",
       " Colombia                 0.05\n",
       " New Zealand              0.04\n",
       " Mauritius                0.03\n",
       " Argentina                0.03\n",
       " Peru                     0.03\n",
       " Czech Republic           0.02\n",
       " Greece                   0.02\n",
       " Liechtenstein            0.01\n",
       " Egypt                    0.01\n",
       " Pakistan                 0.00\n",
       " Name: Percentage, dtype: float64}"
      ]
     },
     "execution_count": 13,
     "metadata": {},
     "output_type": "execute_result"
    }
   ],
   "source": [
    "etf_alloc('ACWI', 'etfdb')"
   ]
  },
  {
   "cell_type": "code",
   "execution_count": null,
   "metadata": {},
   "outputs": [],
   "source": []
  }
 ],
 "metadata": {
  "kernelspec": {
   "display_name": "Python 3",
   "language": "python",
   "name": "python3"
  },
  "language_info": {
   "codemirror_mode": {
    "name": "ipython",
    "version": 3
   },
   "file_extension": ".py",
   "mimetype": "text/x-python",
   "name": "python",
   "nbconvert_exporter": "python",
   "pygments_lexer": "ipython3",
   "version": "3.6.7"
  }
 },
 "nbformat": 4,
 "nbformat_minor": 2
}
